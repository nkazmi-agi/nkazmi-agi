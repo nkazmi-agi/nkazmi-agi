{
 "metadata": {
  "language_info": {
   "codemirror_mode": {
    "name": "ipython",
    "version": 3
   },
   "file_extension": ".py",
   "mimetype": "text/x-python",
   "name": "python",
   "nbconvert_exporter": "python",
   "pygments_lexer": "ipython3",
   "version": "3.6.8"
  },
  "orig_nbformat": 2,
  "kernelspec": {
   "name": "python368jvsc74a57bd0e7c37ba80a6e54a3d63188245ab5de6a3e0d381993bcb1990a7020536fc2299e",
   "display_name": "Python 3.6.8 64-bit"
  }
 },
 "nbformat": 4,
 "nbformat_minor": 2,
 "cells": [
  {
   "cell_type": "code",
   "execution_count": null,
   "metadata": {},
   "outputs": [],
   "source": [
    "import os, os.path\n",
    "import numpy as np\n",
    "import glob\n",
    "#from skimage.color import rgb2lab, rgb2gray, lab2rgb\n",
    "#from skimage.io import imread, imshow\n",
    "import matplotlib.pyplot as plt\n"
   ]
  },
  {
   "cell_type": "code",
   "execution_count": null,
   "metadata": {},
   "outputs": [],
   "source": [
    "normalize('C:/Users/nkazmi/Desktop/output/raw_txt_LWIR_CldOff_Atm0', 'C:/Users/nkazmi/Desktop/output/processed_txt_LWIR_CldOff_Atm0',1)  \n"
   ]
  },
  {
   "cell_type": "code",
   "execution_count": null,
   "metadata": {},
   "outputs": [],
   "source": [
    "def normalize(input_folder,output_folder,normalize_to_first):\n",
    "\n",
    "    txt_folder = 'C:/Users/nkazmi/Desktop/output/raw_txt_LWIR_CldOff_Atm0'\n",
    "    txtCounter = len(glob.glob1(txt_folder,\"*.txt\"))\n",
    "    if txtCounter <=2:\n",
    "        print('Error, no data files found.')\n",
    "    \n",
    "    # sort(str2double(regexp(mcellarray([files.name]), mstring('\\\\d+'), mstring('match'), mstring('once'))))\n",
    "    # files = files(reindex)\n",
    "    \n",
    "    i = 3\n",
    "    file_name = sprintf(mstring('%s\\\\\\\\%s'), files(i).folder, files(i).name)\n",
    "    a = load(file_name)\n",
    "    \n",
    "    if (normalize_to_first or num_files == 1):\n",
    "        min_value = min(a(mslice[:]))\n",
    "        max_value = max(a(mslice[:]))\n",
    "        print(min_value)\n",
    "        print(max_value)\n",
    "    # else:\n",
    "    #     min_value = min(a(mslice[:])); print min_value\n",
    "    #     max_value = max(a(mslice[:])); print max_value\n",
    "\n",
    "    #     for i in mslice[4:num_files + 2]:\n",
    "    #         file_name = sprintf(mstring('%s\\\\\\\\%s'), files(i).folder, files(i).name)\n",
    "    #         a = load(file_name)\n",
    "\n",
    "    #         temp_min_value = min(a(mslice[:]))\n",
    "    #         temp_max_value = max(a(mslice[:]))\n",
    "\n",
    "    #         if (temp_min_value < min_value):\n",
    "    #             min_value = temp_min_value; print min_value\n",
    "    #         end\n",
    "\n",
    "    #         if (temp_max_value > max_value):\n",
    "    #             max_value = temp_max_value; print max_value\n",
    "    \n",
    "    print(min_value)\n",
    "    print(max_value)\n",
    "\n",
    "    # full_value_range = max_value - min_value; print full_value_range\n",
    "    # bounds(1).lvalue = min_value#+0.001*full_value_range\n",
    "    # bounds(2).lvalue = max_value - 0.1 * full_value_range; print bounds\n",
    "    # for i in mslice[3:floor(num_files + 2)]:\n",
    "    #     file_name = sprintf(mstring('%s\\\\\\\\%s'), files(i).folder, files(i).name)\n",
    "    #     disp(file_name)\n",
    "    #     a = load(file_name)\n",
    "    #     figure(2)\n",
    "    #     subplot(1, 2, 1)\n",
    "    #     imagesc(a)\n",
    "    #     subplot(1, 2, 2)\n",
    "    #     imagesc(a, bounds)\n",
    "    #     axis(mstring('tight'), mstring('equal'), mstring('off'))\n",
    "    #     output_file = sprintf(mstring('%s\\\\\\\\output_frame_%06d.jpg'), output_folder, i - 2); print output_file\n",
    "\n",
    "    #     # Processing image here\n",
    "    #     a(a < 0).lvalue = 0\n",
    "    #     a = a **elpow** .3\n",
    "\n",
    "    #     bounds(1).lvalue = 0\n",
    "    #     bounds(2).lvalue = max_value ** .3\n",
    "\n",
    "    #     if (scale_up_factor == 1):\n",
    "    #         save_colormapped_image(a, colormap_to_use, output_file, bounds)\n",
    "    #     elif (scale_up_factor > 1):\n",
    "    #         save_colormapped_image(a(mslice[1:1 / scale_up_factor:end], mslice[1:1 / scale_up_factor:end]), colormap_to_use, output_file, bounds)\n",
    "    #     end\n",
    "\n",
    "    #     pause(0.1)\n",
    "    # end\n",
    "    # end\n"
   ]
  }
 ]
}