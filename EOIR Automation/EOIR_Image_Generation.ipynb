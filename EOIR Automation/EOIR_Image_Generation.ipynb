{
 "metadata": {
  "language_info": {
   "codemirror_mode": {
    "name": "ipython",
    "version": 3
   },
   "file_extension": ".py",
   "mimetype": "text/x-python",
   "name": "python",
   "nbconvert_exporter": "python",
   "pygments_lexer": "ipython3",
   "version": "3.6.8"
  },
  "orig_nbformat": 2,
  "kernelspec": {
   "name": "python3",
   "display_name": "Python 3.6.8 64-bit"
  },
  "metadata": {
   "interpreter": {
    "hash": "e7c37ba80a6e54a3d63188245ab5de6a3e0d381993bcb1990a7020536fc2299e"
   }
  },
  "interpreter": {
   "hash": "e7c37ba80a6e54a3d63188245ab5de6a3e0d381993bcb1990a7020536fc2299e"
  }
 },
 "nbformat": 4,
 "nbformat_minor": 2,
 "cells": [
  {
   "source": [
    "\n",
    "# Storytime\n",
    "\n",
    "\n",
    "Before running or if using a different scenario, the user needs to  \n",
    "make the below changes.  \n",
    "* Open the scenario \n",
    "* Update the file path\n",
    "* Set the animation time & time step\n",
    "* In createfolders() decide how the files should be structured  \n",
    "\n",
    "The goal in this script is to simplify generating eoir synthetic data  \n",
    "This is done in a few steps \n",
    "\n",
    "## _main()_\n",
    "\n",
    "main() kicks everything off. Using the scenario time, it calculates the  \n",
    "number of total frames between start and stop. This will be the number  \n",
    "of times eoirdata() steps through the scenario. The loop jumps to the  \n",
    "beginning of the scenario then cycles through the following cloud and  \n",
    "atmospheric parameters.   \n",
    "\n",
    "|Clouds| . |Atmosphere|\n",
    "|:-----|:-:|---------:|\n",
    "|Off   | . |Off       |\n",
    "|On    | . |Off       |\n",
    "|On    | . |Simple       |\n",
    "|On    | . |MODTRAN   |\n",
    "\n",
    "Once the parameters are set, it dives into eoirdata()\n",
    "\n",
    "## _eoirdata()_  \n",
    "\n",
    "eoirdata() uses connect commands to generate the bitmap and the  \n",
    "raw data. In the same line, the data is stored into it's respective  \n",
    "folder (see createfolders()). This function then steps forward in time  \n",
    "and does the whole thing again. The range, or number of iterations is   \n",
    "set by the number of frames. Once it reaches the end time the function  \n",
    "jumps out. \n",
    "\n",
    "## _createfolders()_  \n",
    "Create the folders that eoirdata() will save to. This only needs to be run once.  \n",
    "Kept separate so I can quickly clear/delete folders and regenerate them\n",
    "\n",
    "## _Misc_\n",
    "\n",
    "Replace the manually entered information and let that be entered in as as function\n",
    "\n",
    "if using custom file, then use  \n",
    "root.ExecuteCommand('EOIR */ CloudData SetValue MyConstDataSet Altitude 12    \n",
    "PercentCloudCoverConst 1 PercentCloudCoverFile   \n",
    "\"C:\\ProgramData\\AGI\\STK 12\\STKData\\VO\\Clouds\\clouds_2020126.100000_2020127.160000.cld  \n",
    "EmissivityConst .5 TemperatureConst 233 ForwardScatterConst .1)  \n",
    "\n",
    "\n",
    "* attach to scenario PID  \n",
    "\n",
    "\n",
    "# Connect Command Reference\n",
    "\n",
    "Atmosphere Key\n",
    "* 0 - off.\n",
    "* 1 - Simple atmosphere.\n",
    "* 2 - MODTRAN atmosphere.\n",
    "\n",
    "Atmosphere Simple Parameters\n",
    "* Aerosol Models: Rural\n",
    "* Visibility: 25.00 km\n",
    "* Humidity: 45.8 %\n",
    "    \n",
    "Cloud Key\n",
    "* On - turns on clouds.\n",
    "* Off - turns off clouds.\n",
    "\n",
    "Cloud Parameters\n",
    "* Altitude: 12 km\n",
    "* Forward Scatter: 10%\n",
    "* Back Scatter: 80%\n",
    "* Constant Coverage: 75%\n",
    "* Constant Emissivity and Temperature\n",
    "* Emissivity: 50%\n",
    "* Temperature: 233K\n"
   ],
   "cell_type": "markdown",
   "metadata": {}
  },
  {
   "cell_type": "code",
   "execution_count": 4,
   "metadata": {},
   "outputs": [],
   "source": [
    "import os \n",
    "import csv\n",
    "import time\n",
    "import itertools\n",
    "from datetime import timedelta\n",
    "from datetime import datetime\n",
    "from agi.stk12.stkdesktop import STKDesktop\n",
    "from agi.stk12.stkobjects import *\n",
    "\n",
    "# Open EOIR_Clouds_AirToAir.sc\n",
    "# Connect to the scenario\n",
    "# Get the IAgStkObjectRoot interface \n",
    "\n",
    "stk      = STKDesktop.AttachToApplication()  \n",
    "root     = stk.Root                           \n",
    "scenario = root.CurrentScenario \n",
    "\n",
    "# Set the scenario animation properties\n",
    "animation               = scenario.Animation\n",
    "animation.StartTime     = '5 May 2020 11:41:30.000'\n",
    "animation.EnableAnimCycleTime = True\n",
    "animation.AnimCycleTime = '5 May 2020 11:46:30.000'\n",
    "animation.AnimCycleType = AgEScEndLoopType.eLoopAtTime\n",
    "animation.AnimStepValue = 0.5\n"
   ]
  },
  {
   "cell_type": "code",
   "execution_count": null,
   "metadata": {},
   "outputs": [],
   "source": [
    "def createfolders():\n",
    "\n",
    "    data    = ['raw','processed'] #  the state of the data\n",
    "    sensor  = ['LWIR','Visible']  #  names of the sensors in the scenario\n",
    "    ftype   = ['bitmap','txt']    #  exported data format\n",
    "\n",
    "    cld     = ['Off','On','On','On']\n",
    "    atm     = [0,0,1,2]\n",
    "\n",
    "    # File path for the output data \n",
    "    path = \"C:/Users/nkazmi/Documents/STK 12/EOIR_Clouds_AirToAir - Python - new flight/\"\n",
    "    # newdir = os.mkdir(\"{}output/\".format(path))\n",
    "\n",
    "    # Directory structure based on generated data\n",
    "    for (a,b,c) in itertools.product(data,ftype,sensor): \n",
    "        for (x,y) in itertools.zip_longest(cld,atm):\n",
    "            name = \"{}_{}_{}_Cld{}_Atm{}\".format(a, b, c, x, y)\n",
    "            #print(\"{}output/{}\".format(path,name))\n",
    "            os.mkdir(\"{}output/{}\".format(path,name))\n",
    "\n",
    "createfolders()"
   ]
  },
  {
   "cell_type": "code",
   "execution_count": null,
   "metadata": {},
   "outputs": [],
   "source": [
    "def eoirdata(x,y,z):\n",
    "\n",
    "    # EOIR connect commands SaveSceneImage & SaveSceneRawData \n",
    "    command_bmp_LWIR    = (\"EOIRDetails */Aircraft/SouthBound/Sensor/LWIR SaveSceneImage \"\\\n",
    "        \"\\\"C:/Users/nkazmi/Documents/STK 12/EOIR_Clouds_AirToAir - Python - new flight/output/raw_bitmap_LWIR\")\n",
    "    command_txt_LWIR    = (\"EOIRDetails */Aircraft/SouthBound/Sensor/LWIR SaveSceneRawData \"\\\n",
    "        \"\\\"C:/Users/nkazmi/Documents/STK 12/EOIR_Clouds_AirToAir - Python - new flight/output/raw_txt_LWIR\")\n",
    "    command_bmp_Visible = (\"EOIRDetails */Aircraft/SouthBound/Sensor/Visible SaveSceneImage \"\\\n",
    "        \"\\\"C:/Users/nkazmi/Documents/STK 12/EOIR_Clouds_AirToAir - Python - new flight/output/raw_bitmap_Visible\")\n",
    "    command_txt_Visible = (\"EOIRDetails */Aircraft/SouthBound/Sensor/Visible SaveSceneRawData \"\\\n",
    "        \"\\\"C:/Users/nkazmi/Documents/STK 12/EOIR_Clouds_AirToAir - Python - new flight/output/raw_txt_Visible\")\n",
    "    \n",
    "    # Loop through the entire scenario \n",
    "    for i in range(z):\n",
    "        # print(\"{}_Cld{}_Atm{}/{}.bmp\\\"\".format(command_bmp_LWIR,x,y,i))\n",
    "        # print(\"{}_Cld{}_Atm{}/{}.txt\\\"\".format(command_txt_LWIR,x,y,i))\n",
    "        # print(\"{}_Cld{}_Atm{}/{}.bmp\\\"\".format(command_bmp_Visible,x,y,i))    \n",
    "        # print(\"{}_Cld{}_Atm{}/{}.txt\\\"\".format(command_txt_Visible,x,y,i))\n",
    "        root.ExecuteCommand(\"{}_Cld{}_Atm{}/{}.bmp\\\"\".format(command_bmp_LWIR,x,y,i))\n",
    "        root.ExecuteCommand(\"{}_Cld{}_Atm{}/{}.txt\\\"\".format(command_txt_LWIR,x,y,i))\n",
    "        root.ExecuteCommand(\"{}_Cld{}_Atm{}/{}.bmp\\\"\".format(command_bmp_Visible,x,y,i))    \n",
    "        root.ExecuteCommand(\"{}_Cld{}_Atm{}/{}.txt\\\"\".format(command_txt_Visible,x,y,i))\n",
    "        root.StepForward()\n",
    "\n"
   ]
  },
  {
   "cell_type": "code",
   "execution_count": 5,
   "metadata": {
    "tags": []
   },
   "outputs": [
    {
     "output_type": "stream",
     "name": "stdout",
     "text": [
      "Elapsed Time: 515.6723907073339\n"
     ]
    }
   ],
   "source": [
    "def main():\n",
    "\n",
    "    # Measure elapsed time for data generation\n",
    "    start = time.time() \n",
    "    \n",
    "    # Total frames generated based on scenario animation time/timestep\n",
    "    d1 = datetime.strptime(animation.StartTime,     \"%d %b %Y %H:%M:%S.%f\")\n",
    "    d2 = datetime.strptime(animation.AnimCycleTime, \"%d %b %Y %H:%M:%S.%f\")\n",
    "    k  = int(timedelta.total_seconds(d2 - d1)/animation.AnimStepValue)\n",
    "    #k  = 60 # run for testing\n",
    "\n",
    "    cld     = ['Off','On','On','On']\n",
    "    atm     = [0,0,1,2]\n",
    "    \n",
    "    # Jump to the beginning of the animation time\n",
    "    # Set EOIR Cloud and Atmosphere properties\n",
    "    # Animate and generate data for each timestep \n",
    "    for (i,j) in itertools.zip_longest(cld,atm):\n",
    "        root.Rewind()\n",
    "        root.ExecuteCommand(\"EOIR */ SetAtmosphere Clouds {}\".format(i))\n",
    "        root.ExecuteCommand(\"EOIR */ SetAtmosphere Mode {}\".format(j))\n",
    "        eoirdata(i,j,k)\n",
    "\n",
    "    end = time.time()\n",
    "    print(\"Elapsed Time (hr): \" + str((end - start)/(3600))\n",
    "if __name__ == '__main__':\n",
    "    main()  "
   ]
  },
  {
   "cell_type": "code",
   "execution_count": 5,
   "metadata": {},
   "outputs": [
    {
     "output_type": "stream",
     "name": "stdout",
     "text": [
      "True\ncontinue\n"
     ]
    }
   ],
   "source": [
    "import os.path\n",
    "\n",
    "path = 'C:/Users/nkazmi/Documents/STK 12/EOIR_Clouds_AirToAir - Python - new flight/output'\n",
    "\n",
    "isExist = os.path.exists(path) \n",
    "print(isExist)\n",
    "if isExist == False:\n",
    "    createfolders()\n",
    "else:\n",
    "    print('Directories Exist')\n",
    "    "
   ]
  },
  {
   "cell_type": "code",
   "execution_count": null,
   "metadata": {},
   "outputs": [],
   "source": []
  }
 ]
}