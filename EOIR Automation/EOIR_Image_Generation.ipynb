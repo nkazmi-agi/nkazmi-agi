{
 "metadata": {
  "language_info": {
   "codemirror_mode": {
    "name": "ipython",
    "version": 3
   },
   "file_extension": ".py",
   "mimetype": "text/x-python",
   "name": "python",
   "nbconvert_exporter": "python",
   "pygments_lexer": "ipython3",
   "version": "3.6.8"
  },
  "orig_nbformat": 2,
  "kernelspec": {
   "name": "python3",
   "display_name": "Python 3.6.8 64-bit"
  },
  "metadata": {
   "interpreter": {
    "hash": "e7c37ba80a6e54a3d63188245ab5de6a3e0d381993bcb1990a7020536fc2299e"
   }
  },
  "interpreter": {
   "hash": "e7c37ba80a6e54a3d63188245ab5de6a3e0d381993bcb1990a7020536fc2299e"
  }
 },
 "nbformat": 4,
 "nbformat_minor": 2,
 "cells": [
  {
   "source": [
    "\n",
    "# Storytime\n",
    "\n",
    "\n",
    "Before running or if using a different scenario, the user needs to  \n",
    "make the below changes.  \n",
    "* Open the scenario \n",
    "* Update the file path\n",
    "* Set the animation time & time step\n",
    "* In createfolders() decide how the files should be structured  \n",
    "\n",
    "The goal in this script is to simplify generating eoir synthetic data  \n",
    "This is done in a few steps \n",
    "\n",
    "## _main()_\n",
    "\n",
    "main() kicks everything off. Using the scenario time, it calculates the  \n",
    "number of total frames between start and stop. This will be the number  \n",
    "of times eoirdata() steps through the scenario. The loop jumps to the  \n",
    "beginning of the scenario then cycles through the following cloud and  \n",
    "atmospheric parameters.   \n",
    "\n",
    "|Clouds| . |Atmosphere|\n",
    "|:-----|:-:|---------:|\n",
    "|Off   | . |Off       |\n",
    "|On    | . |Off       |\n",
    "|On    | . |Simple       |\n",
    "|On    | . |MODTRAN   |\n",
    "\n",
    "Once the parameters are set, it dives into eoirdata()\n",
    "\n",
    "## _eoirdata()_  \n",
    "\n",
    "eoirdata() uses connect commands to generate the bitmap and the  \n",
    "raw data. In the same line, the data is stored into it's respective  \n",
    "folder (see createfolders()). This function then steps forward in time  \n",
    "and does the whole thing again. The range, or number of iterations is   \n",
    "set by the number of frames. Once it reaches the end time the function  \n",
    "jumps out. \n",
    "\n",
    "## _createfolders()_  \n",
    "Create the folders that eoirdata() will save to. It will first check  \n",
    "if the directories exist and decide if they need to be generated.  \n",
    "\n",
    "## _Misc_\n",
    "\n",
    "Replace the manually entered information and let that be entered in as as function\n",
    "\n",
    "if using custom file, then use  \n",
    "root.ExecuteCommand('EOIR */ CloudData SetValue MyConstDataSet Altitude 12    \n",
    "PercentCloudCoverConst 1 PercentCloudCoverFile   \n",
    "\"C:\\ProgramData\\AGI\\STK 12\\STKData\\VO\\Clouds\\clouds_2020126.100000_2020127.160000.cld  \n",
    "EmissivityConst .5 TemperatureConst 233 ForwardScatterConst .1)  \n",
    "\n",
    "\n",
    "* attach to scenario PID  \n",
    "\n",
    "\n",
    "# Connect Command Reference\n",
    "\n",
    "Atmosphere Key\n",
    "* 0 - off.\n",
    "* 1 - Simple atmosphere.\n",
    "* 2 - MODTRAN atmosphere.\n",
    "\n",
    "Atmosphere Simple Parameters\n",
    "* Aerosol Models: Rural\n",
    "* Visibility: 25.00 km\n",
    "* Humidity: 45.8 %\n",
    "    \n",
    "Cloud Key\n",
    "* On - turns on clouds.\n",
    "* Off - turns off clouds.\n",
    "\n",
    "Cloud Parameters\n",
    "* Altitude: 12 km\n",
    "* Forward Scatter: 10%\n",
    "* Back Scatter: 80%\n",
    "* Constant Coverage: 75%\n",
    "* Constant Emissivity and Temperature\n",
    "* Emissivity: 50%\n",
    "* Temperature: 233K\n"
   ],
   "cell_type": "markdown",
   "metadata": {}
  },
  {
   "cell_type": "code",
   "execution_count": 4,
   "metadata": {},
   "outputs": [],
   "source": [
    "import os \n",
    "import csv\n",
    "import time\n",
    "import itertools\n",
    "import numpy as np\n",
    "from datetime import timedelta\n",
    "from datetime import datetime\n",
    "from agi.stk12.stkdesktop import STKDesktop\n",
    "from agi.stk12.stkobjects import *\n",
    "\n",
    "# Open EOIR_Clouds_AirToAir.sc\n",
    "# Connect to the scenario\n",
    "# Get the IAgStkObjectRoot interface \n",
    "\n",
    "stk      = STKDesktop.AttachToApplication()  \n",
    "root     = stk.Root                           \n",
    "scenario = root.CurrentScenario \n",
    "\n",
    "# Set the scenario animation properties\n",
    "animation               = scenario.Animation\n",
    "animation.StartTime     = '5 May 2020 11:41:30.000'\n",
    "animation.EnableAnimCycleTime = True\n",
    "animation.AnimCycleTime = '5 May 2020 11:46:30.000'\n",
    "animation.AnimCycleType = AgEScEndLoopType.eLoopAtTime\n",
    "animation.AnimStepValue = 0.5\n"
   ]
  },
  {
   "cell_type": "code",
   "execution_count": 5,
   "metadata": {},
   "outputs": [],
   "source": [
    "def createfolders(filepath,data,sensor,ftype,cld,atm):\n",
    "\n",
    "    newdir = os.mkdir(\"{}output/\".format(filepath))\n",
    "\n",
    "    # Directory structure based on generated data\n",
    "    for (a,b,c) in itertools.product(data,ftype,sensor): \n",
    "        for (x,y) in itertools.zip_longest(cld,atm):\n",
    "            name = \"{}_{}_{}_Cld{}_Atm{}\".format(a, b, c, x, y)\n",
    "            # print(\"{}output/{}\".format(filepath,name))\n",
    "            os.mkdir(\"{}output/{}\".format(filepath,name))\n"
   ]
  },
  {
   "cell_type": "code",
   "execution_count": 6,
   "metadata": {},
   "outputs": [],
   "source": [
    "def eoirdata(filepath,x,y,z):\n",
    "\n",
    "    # EOIR connect commands SaveSceneImage & SaveSceneRawData \n",
    "    command_bmp_LWIR    = (\"EOIRDetails */Aircraft/SouthBound/Sensor/LWIR SaveSceneImage \"\\\n",
    "        \"\\\"{}output/raw_bitmap_LWIR\".format(filepath))\n",
    "    command_txt_LWIR    = (\"EOIRDetails */Aircraft/SouthBound/Sensor/LWIR SaveSceneRawData \"\\\n",
    "        \"\\\"{}output/raw_txt_LWIR\".format(filepath))\n",
    "    command_bmp_Visible = (\"EOIRDetails */Aircraft/SouthBound/Sensor/Visible SaveSceneImage \"\\\n",
    "        \"\\\"{}output/raw_bitmap_Visible\".format(filepath))\n",
    "    command_txt_Visible = (\"EOIRDetails */Aircraft/SouthBound/Sensor/Visible SaveSceneRawData \"\\\n",
    "        \"\\\"{}output/raw_txt_Visible\".format(filepath))\n",
    "    \n",
    "    # Loop through the entire scenario \n",
    "    for i in range(z):\n",
    "        print(\"{}_Cld{}_Atm{}/{}.bmp\\\"\".format(command_bmp_LWIR,x,y,i))\n",
    "        print(\"{}_Cld{}_Atm{}/{}.txt\\\"\".format(command_txt_LWIR,x,y,i))\n",
    "        print(\"{}_Cld{}_Atm{}/{}.bmp\\\"\".format(command_bmp_Visible,x,y,i))    \n",
    "        print(\"{}_Cld{}_Atm{}/{}.txt\\\"\".format(command_txt_Visible,x,y,i))\n",
    "        # root.ExecuteCommand(\"{}_Cld{}_Atm{}/{}.bmp\\\"\".format(command_bmp_LWIR,x,y,i))\n",
    "        # root.ExecuteCommand(\"{}_Cld{}_Atm{}/{}.txt\\\"\".format(command_txt_LWIR,x,y,i))\n",
    "        # root.ExecuteCommand(\"{}_Cld{}_Atm{}/{}.bmp\\\"\".format(command_bmp_Visible,x,y,i))    \n",
    "        # root.ExecuteCommand(\"{}_Cld{}_Atm{}/{}.txt\\\"\".format(command_txt_Visible,x,y,i))\n",
    "        root.StepForward()\n"
   ]
  },
  {
   "cell_type": "code",
   "execution_count": 7,
   "metadata": {
    "tags": []
   },
   "outputs": [
    {
     "output_type": "stream",
     "name": "stdout",
     "text": [
      "Directories Exist\n",
      "EOIRDetails */Aircraft/SouthBound/Sensor/LWIR SaveSceneImage \"C:/Users/nkazmi/Documents/STK 12/EOIR_Clouds_AirToAir/output/raw_bitmap_LWIR_CldOff_Atm0/0.bmp\"\n",
      "EOIRDetails */Aircraft/SouthBound/Sensor/LWIR SaveSceneRawData \"C:/Users/nkazmi/Documents/STK 12/EOIR_Clouds_AirToAir/output/raw_txt_LWIR_CldOff_Atm0/0.txt\"\n",
      "EOIRDetails */Aircraft/SouthBound/Sensor/Visible SaveSceneImage \"C:/Users/nkazmi/Documents/STK 12/EOIR_Clouds_AirToAir/output/raw_bitmap_Visible_CldOff_Atm0/0.bmp\"\n",
      "EOIRDetails */Aircraft/SouthBound/Sensor/Visible SaveSceneRawData \"C:/Users/nkazmi/Documents/STK 12/EOIR_Clouds_AirToAir/output/raw_txt_Visible_CldOff_Atm0/0.txt\"\n",
      "EOIRDetails */Aircraft/SouthBound/Sensor/LWIR SaveSceneImage \"C:/Users/nkazmi/Documents/STK 12/EOIR_Clouds_AirToAir/output/raw_bitmap_LWIR_CldOff_Atm0/1.bmp\"\n",
      "EOIRDetails */Aircraft/SouthBound/Sensor/LWIR SaveSceneRawData \"C:/Users/nkazmi/Documents/STK 12/EOIR_Clouds_AirToAir/output/raw_txt_LWIR_CldOff_Atm0/1.txt\"\n",
      "EOIRDetails */Aircraft/SouthBound/Sensor/Visible SaveSceneImage \"C:/Users/nkazmi/Documents/STK 12/EOIR_Clouds_AirToAir/output/raw_bitmap_Visible_CldOff_Atm0/1.bmp\"\n",
      "EOIRDetails */Aircraft/SouthBound/Sensor/Visible SaveSceneRawData \"C:/Users/nkazmi/Documents/STK 12/EOIR_Clouds_AirToAir/output/raw_txt_Visible_CldOff_Atm0/1.txt\"\n",
      "EOIRDetails */Aircraft/SouthBound/Sensor/LWIR SaveSceneImage \"C:/Users/nkazmi/Documents/STK 12/EOIR_Clouds_AirToAir/output/raw_bitmap_LWIR_CldOff_Atm0/2.bmp\"\n",
      "EOIRDetails */Aircraft/SouthBound/Sensor/LWIR SaveSceneRawData \"C:/Users/nkazmi/Documents/STK 12/EOIR_Clouds_AirToAir/output/raw_txt_LWIR_CldOff_Atm0/2.txt\"\n",
      "EOIRDetails */Aircraft/SouthBound/Sensor/Visible SaveSceneImage \"C:/Users/nkazmi/Documents/STK 12/EOIR_Clouds_AirToAir/output/raw_bitmap_Visible_CldOff_Atm0/2.bmp\"\n",
      "EOIRDetails */Aircraft/SouthBound/Sensor/Visible SaveSceneRawData \"C:/Users/nkazmi/Documents/STK 12/EOIR_Clouds_AirToAir/output/raw_txt_Visible_CldOff_Atm0/2.txt\"\n",
      "EOIRDetails */Aircraft/SouthBound/Sensor/LWIR SaveSceneImage \"C:/Users/nkazmi/Documents/STK 12/EOIR_Clouds_AirToAir/output/raw_bitmap_LWIR_CldOff_Atm0/3.bmp\"\n",
      "EOIRDetails */Aircraft/SouthBound/Sensor/LWIR SaveSceneRawData \"C:/Users/nkazmi/Documents/STK 12/EOIR_Clouds_AirToAir/output/raw_txt_LWIR_CldOff_Atm0/3.txt\"\n",
      "EOIRDetails */Aircraft/SouthBound/Sensor/Visible SaveSceneImage \"C:/Users/nkazmi/Documents/STK 12/EOIR_Clouds_AirToAir/output/raw_bitmap_Visible_CldOff_Atm0/3.bmp\"\n",
      "EOIRDetails */Aircraft/SouthBound/Sensor/Visible SaveSceneRawData \"C:/Users/nkazmi/Documents/STK 12/EOIR_Clouds_AirToAir/output/raw_txt_Visible_CldOff_Atm0/3.txt\"\n",
      "EOIRDetails */Aircraft/SouthBound/Sensor/LWIR SaveSceneImage \"C:/Users/nkazmi/Documents/STK 12/EOIR_Clouds_AirToAir/output/raw_bitmap_LWIR_CldOn_Atm0/0.bmp\"\n",
      "EOIRDetails */Aircraft/SouthBound/Sensor/LWIR SaveSceneRawData \"C:/Users/nkazmi/Documents/STK 12/EOIR_Clouds_AirToAir/output/raw_txt_LWIR_CldOn_Atm0/0.txt\"\n",
      "EOIRDetails */Aircraft/SouthBound/Sensor/Visible SaveSceneImage \"C:/Users/nkazmi/Documents/STK 12/EOIR_Clouds_AirToAir/output/raw_bitmap_Visible_CldOn_Atm0/0.bmp\"\n",
      "EOIRDetails */Aircraft/SouthBound/Sensor/Visible SaveSceneRawData \"C:/Users/nkazmi/Documents/STK 12/EOIR_Clouds_AirToAir/output/raw_txt_Visible_CldOn_Atm0/0.txt\"\n",
      "EOIRDetails */Aircraft/SouthBound/Sensor/LWIR SaveSceneImage \"C:/Users/nkazmi/Documents/STK 12/EOIR_Clouds_AirToAir/output/raw_bitmap_LWIR_CldOn_Atm0/1.bmp\"\n",
      "EOIRDetails */Aircraft/SouthBound/Sensor/LWIR SaveSceneRawData \"C:/Users/nkazmi/Documents/STK 12/EOIR_Clouds_AirToAir/output/raw_txt_LWIR_CldOn_Atm0/1.txt\"\n",
      "EOIRDetails */Aircraft/SouthBound/Sensor/Visible SaveSceneImage \"C:/Users/nkazmi/Documents/STK 12/EOIR_Clouds_AirToAir/output/raw_bitmap_Visible_CldOn_Atm0/1.bmp\"\n",
      "EOIRDetails */Aircraft/SouthBound/Sensor/Visible SaveSceneRawData \"C:/Users/nkazmi/Documents/STK 12/EOIR_Clouds_AirToAir/output/raw_txt_Visible_CldOn_Atm0/1.txt\"\n",
      "EOIRDetails */Aircraft/SouthBound/Sensor/LWIR SaveSceneImage \"C:/Users/nkazmi/Documents/STK 12/EOIR_Clouds_AirToAir/output/raw_bitmap_LWIR_CldOn_Atm0/2.bmp\"\n",
      "EOIRDetails */Aircraft/SouthBound/Sensor/LWIR SaveSceneRawData \"C:/Users/nkazmi/Documents/STK 12/EOIR_Clouds_AirToAir/output/raw_txt_LWIR_CldOn_Atm0/2.txt\"\n",
      "EOIRDetails */Aircraft/SouthBound/Sensor/Visible SaveSceneImage \"C:/Users/nkazmi/Documents/STK 12/EOIR_Clouds_AirToAir/output/raw_bitmap_Visible_CldOn_Atm0/2.bmp\"\n",
      "EOIRDetails */Aircraft/SouthBound/Sensor/Visible SaveSceneRawData \"C:/Users/nkazmi/Documents/STK 12/EOIR_Clouds_AirToAir/output/raw_txt_Visible_CldOn_Atm0/2.txt\"\n",
      "EOIRDetails */Aircraft/SouthBound/Sensor/LWIR SaveSceneImage \"C:/Users/nkazmi/Documents/STK 12/EOIR_Clouds_AirToAir/output/raw_bitmap_LWIR_CldOn_Atm0/3.bmp\"\n",
      "EOIRDetails */Aircraft/SouthBound/Sensor/LWIR SaveSceneRawData \"C:/Users/nkazmi/Documents/STK 12/EOIR_Clouds_AirToAir/output/raw_txt_LWIR_CldOn_Atm0/3.txt\"\n",
      "EOIRDetails */Aircraft/SouthBound/Sensor/Visible SaveSceneImage \"C:/Users/nkazmi/Documents/STK 12/EOIR_Clouds_AirToAir/output/raw_bitmap_Visible_CldOn_Atm0/3.bmp\"\n",
      "EOIRDetails */Aircraft/SouthBound/Sensor/Visible SaveSceneRawData \"C:/Users/nkazmi/Documents/STK 12/EOIR_Clouds_AirToAir/output/raw_txt_Visible_CldOn_Atm0/3.txt\"\n",
      "EOIRDetails */Aircraft/SouthBound/Sensor/LWIR SaveSceneImage \"C:/Users/nkazmi/Documents/STK 12/EOIR_Clouds_AirToAir/output/raw_bitmap_LWIR_CldOn_Atm1/0.bmp\"\n",
      "EOIRDetails */Aircraft/SouthBound/Sensor/LWIR SaveSceneRawData \"C:/Users/nkazmi/Documents/STK 12/EOIR_Clouds_AirToAir/output/raw_txt_LWIR_CldOn_Atm1/0.txt\"\n",
      "EOIRDetails */Aircraft/SouthBound/Sensor/Visible SaveSceneImage \"C:/Users/nkazmi/Documents/STK 12/EOIR_Clouds_AirToAir/output/raw_bitmap_Visible_CldOn_Atm1/0.bmp\"\n",
      "EOIRDetails */Aircraft/SouthBound/Sensor/Visible SaveSceneRawData \"C:/Users/nkazmi/Documents/STK 12/EOIR_Clouds_AirToAir/output/raw_txt_Visible_CldOn_Atm1/0.txt\"\n",
      "EOIRDetails */Aircraft/SouthBound/Sensor/LWIR SaveSceneImage \"C:/Users/nkazmi/Documents/STK 12/EOIR_Clouds_AirToAir/output/raw_bitmap_LWIR_CldOn_Atm1/1.bmp\"\n",
      "EOIRDetails */Aircraft/SouthBound/Sensor/LWIR SaveSceneRawData \"C:/Users/nkazmi/Documents/STK 12/EOIR_Clouds_AirToAir/output/raw_txt_LWIR_CldOn_Atm1/1.txt\"\n",
      "EOIRDetails */Aircraft/SouthBound/Sensor/Visible SaveSceneImage \"C:/Users/nkazmi/Documents/STK 12/EOIR_Clouds_AirToAir/output/raw_bitmap_Visible_CldOn_Atm1/1.bmp\"\n",
      "EOIRDetails */Aircraft/SouthBound/Sensor/Visible SaveSceneRawData \"C:/Users/nkazmi/Documents/STK 12/EOIR_Clouds_AirToAir/output/raw_txt_Visible_CldOn_Atm1/1.txt\"\n",
      "EOIRDetails */Aircraft/SouthBound/Sensor/LWIR SaveSceneImage \"C:/Users/nkazmi/Documents/STK 12/EOIR_Clouds_AirToAir/output/raw_bitmap_LWIR_CldOn_Atm1/2.bmp\"\n",
      "EOIRDetails */Aircraft/SouthBound/Sensor/LWIR SaveSceneRawData \"C:/Users/nkazmi/Documents/STK 12/EOIR_Clouds_AirToAir/output/raw_txt_LWIR_CldOn_Atm1/2.txt\"\n",
      "EOIRDetails */Aircraft/SouthBound/Sensor/Visible SaveSceneImage \"C:/Users/nkazmi/Documents/STK 12/EOIR_Clouds_AirToAir/output/raw_bitmap_Visible_CldOn_Atm1/2.bmp\"\n",
      "EOIRDetails */Aircraft/SouthBound/Sensor/Visible SaveSceneRawData \"C:/Users/nkazmi/Documents/STK 12/EOIR_Clouds_AirToAir/output/raw_txt_Visible_CldOn_Atm1/2.txt\"\n",
      "EOIRDetails */Aircraft/SouthBound/Sensor/LWIR SaveSceneImage \"C:/Users/nkazmi/Documents/STK 12/EOIR_Clouds_AirToAir/output/raw_bitmap_LWIR_CldOn_Atm1/3.bmp\"\n",
      "EOIRDetails */Aircraft/SouthBound/Sensor/LWIR SaveSceneRawData \"C:/Users/nkazmi/Documents/STK 12/EOIR_Clouds_AirToAir/output/raw_txt_LWIR_CldOn_Atm1/3.txt\"\n",
      "EOIRDetails */Aircraft/SouthBound/Sensor/Visible SaveSceneImage \"C:/Users/nkazmi/Documents/STK 12/EOIR_Clouds_AirToAir/output/raw_bitmap_Visible_CldOn_Atm1/3.bmp\"\n",
      "EOIRDetails */Aircraft/SouthBound/Sensor/Visible SaveSceneRawData \"C:/Users/nkazmi/Documents/STK 12/EOIR_Clouds_AirToAir/output/raw_txt_Visible_CldOn_Atm1/3.txt\"\n",
      "Elapsed Time (hr): 0.001089740859137641\n"
     ]
    }
   ],
   "source": [
    "def main():\n",
    "\n",
    "    # Measure elapsed time for data generation\n",
    "    start = time.time() \n",
    "    \n",
    "    # Total frames generated based on scenario animation time/timestep\n",
    "    d1 = datetime.strptime(animation.StartTime,     \"%d %b %Y %H:%M:%S.%f\")\n",
    "    d2 = datetime.strptime(animation.AnimCycleTime, \"%d %b %Y %H:%M:%S.%f\")\n",
    "    #k  = int(timedelta.total_seconds(d2 - d1)/animation.AnimStepValue)\n",
    "    k  = 4 # run for testing\n",
    "\n",
    "    ########\n",
    "    # USER DEFINED \n",
    "    # File path for the output data \n",
    "    filepath = 'C:/Users/nkazmi/Documents/STK 12/EOIR_Clouds_AirToAir/'\n",
    "\n",
    "    data    = ['raw','processed'] # the state of the data\n",
    "    sensor  = ['LWIR','Visible']  # names of the sensors in the scenario \n",
    "                                  # potentially remove this and pull in info from scenario\n",
    "    ftype   = ['bitmap','txt']    # exported data format\n",
    "\n",
    "    cld     = ['Off','On','On']\n",
    "    atm     = [0,0,1]\n",
    "    ########\n",
    "\n",
    "    # Check if the save to directories exist \n",
    "    # Create them before generating data\n",
    "    isExist = os.path.exists(\"{}output/\".format(filepath))\n",
    "\n",
    "    if isExist == False:\n",
    "        print('Creating Directories...')\n",
    "        createfolders(filepath,data,sensor,ftype,cld,atm)\n",
    "    else:\n",
    "        print('Directories Exist')\n",
    "\n",
    "    # Jump to the beginning of the animation time\n",
    "    # Set EOIR Cloud and Atmosphere properties\n",
    "    # Animate and generate data for each timestep \n",
    "    for (i,j) in itertools.zip_longest(cld,atm):\n",
    "        root.Rewind()\n",
    "        root.ExecuteCommand(\"EOIR */ SetAtmosphere Clouds {}\".format(i))\n",
    "        root.ExecuteCommand(\"EOIR */ SetAtmosphere Mode {}\".format(j))\n",
    "        eoirdata(filepath,i,j,k)\n",
    "\n",
    "    end = time.time()\n",
    "    print(\"Elapsed Time (hr): \" + str((end - start)/(3600)))\n",
    "\n",
    "if __name__ == '__main__':\n",
    "    main()"
   ]
  },
  {
   "cell_type": "code",
   "execution_count": 157,
   "metadata": {},
   "outputs": [
    {
     "output_type": "execute_result",
     "data": {
      "text/plain": [
       "list"
      ]
     },
     "metadata": {},
     "execution_count": 157
    }
   ],
   "source": [
    "sensor  = ['LWIR','Visible'] \n",
    "type(sensor)"
   ]
  },
  {
   "cell_type": "code",
   "execution_count": 120,
   "metadata": {},
   "outputs": [
    {
     "output_type": "stream",
     "name": "stdout",
     "text": [
      "0\n1\n2\n3\n4\n5\n6\n7\n8\n"
     ]
    }
   ],
   "source": [
    "# this counts and iterates over the number of child objects in the scenario\n",
    "# so now I need to call each individual object and see if it has children\n",
    "# I should call the objects by type \n",
    "# then I can see what's happening from there. \n",
    "# I could use item but not sure if I'm doing that right\n",
    "for i in range(scenario.Children.Count):\n",
    "    print(i)"
   ]
  },
  {
   "cell_type": "code",
   "execution_count": 61,
   "metadata": {},
   "outputs": [
    {
     "output_type": "execute_result",
     "data": {
      "text/plain": [
       "True"
      ]
     },
     "metadata": {},
     "execution_count": 61
    }
   ],
   "source": [
    "scenario.Children.GetElements(AgESTKObjectType.eAircraft).Item(1).HasChildren #this is the miracle # need item to be smarter and then I can use haschildren\n"
   ]
  },
  {
   "cell_type": "code",
   "execution_count": 46,
   "metadata": {},
   "outputs": [
    {
     "output_type": "stream",
     "name": "stdout",
     "text": [
      "Help on method Item in module agi.stk12.stkobjects:\n\nItem(indexOrName:Any) -> 'IAgStkObject' method of agi.stk12.stkobjects.IAgStkObjectCollection instance\n    Given an index, returns the element in the collection. If the index is an integer, then method returns the element in the collection at the given position. If the index is a string, then the method returns the element with the specified name.\n\n"
     ]
    }
   ],
   "source": [
    "# for each stk object find item and go to \n",
    "# loop with number of children\n",
    "# to be perfectly safe\n",
    "# check if count of parent objects children value is greater than 0 yes\n",
    "# .Item enumerated number \n",
    "# .GetElement with the right filter\n",
    "# \n",
    "scParent = scenario.Children\n",
    "help(scParent.Item) # have to loop through "
   ]
  },
  {
   "cell_type": "code",
   "execution_count": 174,
   "metadata": {},
   "outputs": [
    {
     "output_type": "stream",
     "name": "stdout",
     "text": [
      "Aircraft\nSouthBound\nSensor\nLWIR\nSensor\nVisible\n['LWIR', 'Visible']\n"
     ]
    }
   ],
   "source": [
    "def findObjects():\n",
    "    # Ideally this should be able to look through ALL objects in the \n",
    "    # scenario and find the child objects... but anyways here we are. \n",
    "    parentObj = scenario.Children.GetElements(AgESTKObjectType.eAircraft)\n",
    "\n",
    "    children = []\n",
    "    for i in range(parentObj.Count): \n",
    "        if parentObj.Item(i).HasChildren == True:\n",
    "            children.append(i) # capture the identity of the object that has children\n",
    "        else:\n",
    "            continue\n",
    "\n",
    "    children_array = np.array(children)\n",
    "\n",
    "    sensor = []\n",
    "\n",
    "    for i in children_array:\n",
    "        print(parentObj.Item(int(children_array)).ClassName)\n",
    "        print(parentObj.Item(int(children_array)).InstanceName)\n",
    "        for j in range(parentObj.Item(int(children_array)).Children.Count):\n",
    "            print(parentObj.Item(int(children_array)).Children.GetElements(AgESTKObjectType.eSensor).Item(j).ClassName)\n",
    "            print(parentObj.Item(int(children_array)).Children.GetElements(AgESTKObjectType.eSensor).Item(j).InstanceName)\n",
    "            sensor.append(parentObj.Item(int(children_array)).Children.GetElements(AgESTKObjectType.eSensor).Item(j).InstanceName)\n",
    "\n",
    "    print(sensor)\n",
    "\n",
    "findObjects()"
   ]
  },
  {
   "cell_type": "code",
   "execution_count": 154,
   "metadata": {},
   "outputs": [
    {
     "output_type": "stream",
     "name": "stdout",
     "text": [
      "0\n",
      "False\n",
      "No child Objects\n",
      "1\n",
      "True\n",
      "I have child objects\n",
      "2\n",
      "False\n",
      "No child Objects\n",
      "[1]\n",
      "LWIR Visible\n",
      "*/Aircraft/SouthBound/Sensor/LWIR\n",
      "*/Aircraft/SouthBound/Sensor/Visible\n",
      "Aircraft\n",
      "SouthBound\n",
      "0\n",
      "Sensor\n",
      "LWIR\n",
      "1\n",
      "Sensor\n",
      "Visible\n"
     ]
    }
   ],
   "source": [
    "scenario.Children.GetElements(AgESTKObjectType.eAircraft).Count # These are Children of the scenario\n",
    "\n",
    "scenario.Children.GetElements(AgESTKObjectType.eSensor).Count # These are children of the children of the scenario, this isn't looking at the right level\n",
    "\n",
    "# Loop through all the aircraft objects in the scenario\n",
    "\n",
    "children = []\n",
    "\n",
    "for i in range(scenario.Children.GetElements(AgESTKObjectType.eAircraft).Count): #Ideally this should be able to look through ALL objects in the scenario and find the child objects, but anyways here we are. \n",
    "    print(i)\n",
    "    print(scenario.Children.GetElements(AgESTKObjectType.eAircraft).Item(i).HasChildren)\n",
    "    if scenario.Children.GetElements(AgESTKObjectType.eAircraft).Item(i).HasChildren == True:\n",
    "        print('I have child objects')\n",
    "        children.append(i) # capture the identity of the object that has children\n",
    "    else:\n",
    "        print('No child Objects')\n",
    "\n",
    "print(children)\n",
    "\n",
    "parentObj = scenario.Children.GetElements(AgESTKObjectType.eAircraft)\n",
    "\n",
    "parentObj.Item(1).Children.Count # correctly identifies the number of children need it to know it's a sensor .... or do I. \n",
    "# for robustness I should consider that this needs to sweep for sensors \n",
    "parentObj.Item(1).Children.GetElements(AgESTKObjectType.eSensor).Count\n",
    "\n",
    "childObj = parentObj.Item(1).Children.GetElements(AgESTKObjectType.eSensor)\n",
    "print(childObj.Item(0).InstanceName,childObj.Item(1).InstanceName)\n",
    "\n",
    "objPath = \"*/{}/{}/{}/{}\".format(parentObj.Item(1).ClassName,parentObj.Item(1).InstanceName,childObj.Item(0).ClassName,childObj.Item(0).InstanceName)\n",
    "print(objPath)\n",
    "objPath2 = \"*/{}/{}/{}/{}\".format(parentObj.Item(1).ClassName,parentObj.Item(1).InstanceName,childObj.Item(1).ClassName,childObj.Item(1).InstanceName)\n",
    "print(objPath2)\n",
    "\n",
    "import numpy as np\n",
    "children_array = np.array(children)\n",
    "\n",
    "for i in children_array:\n",
    "    print(parentObj.Item(int(children_array)).ClassName)\n",
    "    print(parentObj.Item(int(children_array)).InstanceName)\n",
    "    for i in range(parentObj.Item(int(children_array)).Children.Count):\n",
    "        print(i)\n",
    "        print(parentObj.Item(int(children_array)).Children.GetElements(AgESTKObjectType.eSensor).Item(i).ClassName)\n",
    "        print(parentObj.Item(int(children_array)).Children.GetElements(AgESTKObjectType.eSensor).Item(i).InstanceName)\n"
   ]
  },
  {
   "cell_type": "code",
   "execution_count": null,
   "metadata": {},
   "outputs": [],
   "source": []
  }
 ]
}